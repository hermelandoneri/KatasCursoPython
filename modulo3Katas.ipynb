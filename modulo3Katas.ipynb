{
 "cells": [
  {
   "cell_type": "markdown",
   "metadata": {},
   "source": [
    "Kata modulo 3. Uso de operadores "
   ]
  },
  {
   "cell_type": "code",
   "execution_count": 9,
   "metadata": {},
   "outputs": [
    {
     "name": "stdout",
     "output_type": "stream",
     "text": [
      "Advertencia se acerca un asteroide con una velocidad de: 49 km/s\n"
     ]
    }
   ],
   "source": [
    "#declaracion de variables\n",
    "#Velocidad expresada en km/s\n",
    "\n",
    "velocidadSuperior=25\n",
    "#la velocidad que viaja\n",
    "velocidad=49\n",
    "\n",
    "\n",
    "\n",
    "if(velocidad>velocidadSuperior):\n",
    "    print(\"Advertencia se acerca un asteroide con una velocidad de: \"+str(velocidad)+\" km/s\")\n",
    "    "
   ]
  },
  {
   "cell_type": "code",
   "execution_count": 12,
   "metadata": {},
   "outputs": [
    {
     "name": "stdout",
     "output_type": "stream",
     "text": [
      "el asteroide no pueden verlo porque es su velocidad es menor de: 20 km/s\n"
     ]
    }
   ],
   "source": [
    "#la velocidad mayor o igual\n",
    "VelocidadIgual=20\n",
    "\n",
    "#se acerca otro asteroide con una velocidad de 19 km/s\n",
    "velocidadSegunda=19\n",
    "\n",
    "if velocidadSegunda>=VelocidadIgual:\n",
    "    print(\"se acerca un asteroide pueden verlo en el cielo: \"+str(velocidadSegunda)+\" km/s\")\n",
    "else:\n",
    "    print(\"el asteroide no pueden verlo porque su velocidad es menor de: \"+str(VelocidadIgual)+\" km/s\")"
   ]
  },
  {
   "cell_type": "markdown",
   "metadata": {},
   "source": [
    "Uso de operadores AND Y OR.\n",
    "Problema 3"
   ]
  },
  {
   "cell_type": "code",
   "execution_count": 19,
   "metadata": {},
   "outputs": [
    {
     "name": "stdout",
     "output_type": "stream",
     "text": [
      "hay un asteroide que puedes visualizarlo: \n"
     ]
    }
   ],
   "source": [
    "tamaño=21\n",
    "velocidad=30\n",
    "\n",
    "if tamaño>25 and velocidad>25:\n",
    "    print(\"Advertencia se acerca un asteroide con una velocidad de: \"+str(velocidad)+\" km/s\"+\"con un tamaño de: \"+ str(tamaño)+\" metros\")\n",
    "elif tamaño<25 or velocidad>20 and velocidad<25:\n",
    "    print(\"hay un asteroide que puedes visualizarlo: \")\n",
    "elif tamaño<25 or velocidad==20 and velocidad<25:\n",
    "    print(\"hay un asteroide que puedes visualizarlo: \") \n",
    "else:\n",
    " print(\"Advertencia se acerca un asteroide\")"
   ]
  }
 ],
 "metadata": {
  "interpreter": {
   "hash": "c8e8b387f8094a5885b1ea019f1f74f88844a213bee1e9a80ad783a6b46cb001"
  },
  "kernelspec": {
   "display_name": "Python 3.10.2 64-bit",
   "language": "python",
   "name": "python3"
  },
  "language_info": {
   "codemirror_mode": {
    "name": "ipython",
    "version": 3
   },
   "file_extension": ".py",
   "mimetype": "text/x-python",
   "name": "python",
   "nbconvert_exporter": "python",
   "pygments_lexer": "ipython3",
   "version": "3.10.2"
  },
  "orig_nbformat": 4
 },
 "nbformat": 4,
 "nbformat_minor": 2
}
